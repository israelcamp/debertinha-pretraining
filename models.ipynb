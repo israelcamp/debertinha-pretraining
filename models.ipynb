{
 "cells": [
  {
   "cell_type": "code",
   "execution_count": 13,
   "metadata": {},
   "outputs": [],
   "source": [
    "import srsly\n",
    "import torch\n",
    "\n",
    "from transformers import DebertaV2Config, DebertaV2ForMaskedLM, DebertaV2Tokenizer, DebertaV2ForTokenClassification"
   ]
  },
  {
   "cell_type": "code",
   "execution_count": 59,
   "metadata": {},
   "outputs": [],
   "source": [
    "class ModelPaths:\n",
    "    generator_config = \"deberta-v3-xsmall-changed/generator_config.json\"\n",
    "    generator_weights = \"deberta-v3-xsmall-changed/pytorch_model.generator.bin\"\n",
    "    discriminator_config = \"deberta-v3-xsmall-changed/config.json\"\n",
    "    discriminator_weights = \"deberta-v3-xsmall-changed/pytorch_model.bin\"\n",
    "mpaths = ModelPaths()"
   ]
  },
  {
   "cell_type": "code",
   "execution_count": 57,
   "metadata": {},
   "outputs": [],
   "source": [
    "def initialize_generator(mpaths: ModelPaths) -> DebertaV2ForMaskedLM:\n",
    "    generator_config = DebertaV2Config(**srsly.read_json(mpaths.generator_config))\n",
    "    generator = DebertaV2ForMaskedLM(generator_config)\n",
    "\n",
    "    generator_weights = torch.load(mpaths.generator_weights, map_location=torch.device('cpu'))\n",
    "\n",
    "    delete_keys = [\n",
    "        \"deberta.embeddings.word_embeddings.weight\", # because we use a different vocab\n",
    "        \"deberta.embeddings.position_embeddings.weight\",\n",
    "        'lm_predictions.lm_head.bias'\n",
    "    ]\n",
    "    for key in delete_keys:\n",
    "        del generator_weights[key] \n",
    "\n",
    "    rename_keys = {\n",
    "        'lm_predictions.lm_head.dense.weight': 'cls.predictions.transform.dense.weight',\n",
    "        'lm_predictions.lm_head.dense.bias': 'cls.predictions.transform.dense.bias',\n",
    "        'lm_predictions.lm_head.LayerNorm.weight': 'cls.predictions.transform.LayerNorm.weight',\n",
    "        'lm_predictions.lm_head.LayerNorm.bias': 'cls.predictions.transform.LayerNorm.bias',\n",
    "    }\n",
    "    for old_key, new_key in rename_keys.items():\n",
    "        generator_weights[new_key] = generator_weights.pop(old_key)\n",
    "\n",
    "    print(generator.load_state_dict(generator_weights, strict=False))\n",
    "\n",
    "    return generator"
   ]
  },
  {
   "cell_type": "code",
   "execution_count": 58,
   "metadata": {},
   "outputs": [
    {
     "name": "stdout",
     "output_type": "stream",
     "text": [
      "_IncompatibleKeys(missing_keys=['deberta.embeddings.word_embeddings.weight', 'cls.predictions.bias', 'cls.predictions.decoder.weight', 'cls.predictions.decoder.bias'], unexpected_keys=[])\n"
     ]
    }
   ],
   "source": [
    "generator = initialize_generator(mpaths)"
   ]
  },
  {
   "cell_type": "code",
   "execution_count": null,
   "metadata": {},
   "outputs": [],
   "source": [
    "def initialize_discriminator(mpaths: ModelPaths) -> DebertaV2ForTokenClassification:\n",
    "    discriminator_config = DebertaV2Config(**srsly.read_json(mpaths.discriminator_config))\n",
    "    discriminator_config.num_labels = 1\n",
    "    discriminator = DebertaV2ForTokenClassification(discriminator_config)\n",
    "\n",
    "    discriminator_weights = torch.load(mpaths.discriminator_weights, map_location=torch.device('cpu'))\n",
    "\n",
    "    delete_keys = [\n",
    "        \"deberta.embeddings.word_embeddings.weight\", # because we use a different vocab\n",
    "    ]\n",
    "    for key in delete_keys:\n",
    "        del discriminator_weights[key]\n",
    "\n",
    "    print(discriminator.load_state_dict(discriminator_weights, strict=False))\n",
    "\n",
    "    return discriminator"
   ]
  }
 ],
 "metadata": {
  "kernelspec": {
   "display_name": "debenv",
   "language": "python",
   "name": "python3"
  },
  "language_info": {
   "codemirror_mode": {
    "name": "ipython",
    "version": 3
   },
   "file_extension": ".py",
   "mimetype": "text/x-python",
   "name": "python",
   "nbconvert_exporter": "python",
   "pygments_lexer": "ipython3",
   "version": "3.10.12"
  }
 },
 "nbformat": 4,
 "nbformat_minor": 2
}
