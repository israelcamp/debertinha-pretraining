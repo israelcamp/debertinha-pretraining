{
 "cells": [
  {
   "cell_type": "code",
   "execution_count": 1,
   "metadata": {},
   "outputs": [
    {
     "name": "stderr",
     "output_type": "stream",
     "text": [
      "/home/israel/Documents/debertinha/debenv/lib/python3.10/site-packages/tqdm/auto.py:21: TqdmWarning: IProgress not found. Please update jupyter and ipywidgets. See https://ipywidgets.readthedocs.io/en/stable/user_install.html\n",
      "  from .autonotebook import tqdm as notebook_tqdm\n"
     ]
    }
   ],
   "source": [
    "from datasets import load_from_disk\n",
    "\n",
    "from transformers import AutoTokenizer\n",
    "from transformers import DataCollatorForLanguageModeling\n",
    "\n",
    "import torch\n",
    "from torch.utils.data import DataLoader\n",
    "\n",
    "from models import initialize_discriminator, initialize_generator, ModelPaths"
   ]
  },
  {
   "cell_type": "code",
   "execution_count": 2,
   "metadata": {},
   "outputs": [
    {
     "data": {
      "text/plain": [
       "<torch._C.Generator at 0x7f3fc37d1150>"
      ]
     },
     "execution_count": 2,
     "metadata": {},
     "output_type": "execute_result"
    }
   ],
   "source": [
    "# set torch random seed\n",
    "torch.manual_seed(0)"
   ]
  },
  {
   "cell_type": "code",
   "execution_count": 3,
   "metadata": {},
   "outputs": [],
   "source": [
    "class TrainArgs(ModelPaths):\n",
    "    per_device_train_batch_size: int = 1\n",
    "    temperature: float = 1.0\n",
    "    rtd_lambda: float = 50.\n",
    "targs = TrainArgs()"
   ]
  },
  {
   "cell_type": "code",
   "execution_count": 4,
   "metadata": {},
   "outputs": [],
   "source": [
    "dataset = load_from_disk('ds_subset_encoded')"
   ]
  },
  {
   "cell_type": "code",
   "execution_count": 5,
   "metadata": {},
   "outputs": [
    {
     "name": "stderr",
     "output_type": "stream",
     "text": [
      "Special tokens have been added in the vocabulary, make sure the associated word embeddings are fine-tuned or trained.\n"
     ]
    },
    {
     "name": "stdout",
     "output_type": "stream",
     "text": [
      "_IncompatibleKeys(missing_keys=['deberta.embeddings.word_embeddings.weight', 'classifier.weight', 'classifier.bias'], unexpected_keys=['lm_predictions.lm_head.bias', 'lm_predictions.lm_head.dense.weight', 'lm_predictions.lm_head.dense.bias', 'lm_predictions.lm_head.LayerNorm.weight', 'lm_predictions.lm_head.LayerNorm.bias', 'mask_predictions.dense.weight', 'mask_predictions.dense.bias', 'mask_predictions.LayerNorm.weight', 'mask_predictions.LayerNorm.bias', 'mask_predictions.classifier.weight', 'mask_predictions.classifier.bias', 'deberta.embeddings.position_embeddings._weight', 'deberta.embeddings.position_embeddings.weight', 'deberta.embeddings.word_embeddings._weight'])\n",
      "_IncompatibleKeys(missing_keys=['deberta.embeddings.word_embeddings.weight', 'cls.predictions.bias', 'cls.predictions.decoder.weight', 'cls.predictions.decoder.bias'], unexpected_keys=[])\n"
     ]
    }
   ],
   "source": [
    "tokenizer = AutoTokenizer.from_pretrained(\"debertinha-v2-tokenizer\")\n",
    "discriminator = initialize_discriminator(targs)\n",
    "generator = initialize_generator(targs)"
   ]
  },
  {
   "cell_type": "code",
   "execution_count": 7,
   "metadata": {},
   "outputs": [
    {
     "data": {
      "text/plain": [
       "<torch.utils.hooks.RemovableHandle at 0x7f3f1ab25630>"
      ]
     },
     "execution_count": 7,
     "metadata": {},
     "output_type": "execute_result"
    }
   ],
   "source": [
    "def _set_param(module, param_name, value):\n",
    "    if hasattr(module, param_name):\n",
    "      delattr(module, param_name)\n",
    "    module.register_buffer(param_name, value)\n",
    "\n",
    "def disentangled_hook(module, *inputs):\n",
    "    g_w_ebd = generator.deberta.embeddings.word_embeddings\n",
    "    d_w_ebd = discriminator.deberta.embeddings.word_embeddings\n",
    "    _set_param(d_w_ebd, 'weight', g_w_ebd.weight.detach() + d_w_ebd.weight)\n",
    "\n",
    "discriminator.register_forward_pre_hook(disentangled_hook)"
   ]
  },
  {
   "cell_type": "code",
   "execution_count": 8,
   "metadata": {},
   "outputs": [],
   "source": [
    "data_collator = DataCollatorForLanguageModeling(\n",
    "    tokenizer=tokenizer, mlm_probability=0.15\n",
    ")"
   ]
  },
  {
   "cell_type": "code",
   "execution_count": 9,
   "metadata": {},
   "outputs": [],
   "source": [
    "train_dataloader = DataLoader(\n",
    "    dataset, shuffle=True, collate_fn=data_collator, batch_size=targs.per_device_train_batch_size\n",
    ")"
   ]
  },
  {
   "cell_type": "code",
   "execution_count": 10,
   "metadata": {},
   "outputs": [
    {
     "name": "stderr",
     "output_type": "stream",
     "text": [
      "You're using a DebertaV2TokenizerFast tokenizer. Please note that with a fast tokenizer, using the `__call__` method is faster than using a method to encode the text followed by a call to the `pad` method to get a padded encoding.\n"
     ]
    }
   ],
   "source": [
    "batch = next(iter(train_dataloader))"
   ]
  },
  {
   "cell_type": "code",
   "execution_count": 11,
   "metadata": {},
   "outputs": [],
   "source": [
    "def topk_sampling(logits, topk = 1, temp=1):\n",
    "    top_p = torch.nn.functional.softmax(logits/temp, dim=-1)\n",
    "    topk = max(1, topk)\n",
    "    next_tokens = torch.multinomial(top_p, topk)\n",
    "    return next_tokens, top_p"
   ]
  },
  {
   "cell_type": "code",
   "execution_count": 12,
   "metadata": {},
   "outputs": [],
   "source": [
    "gen_outputs = generator(**batch)"
   ]
  },
  {
   "cell_type": "code",
   "execution_count": 13,
   "metadata": {},
   "outputs": [],
   "source": [
    "mlm_labels = batch['labels']\n",
    "input_ids = batch['input_ids']\n",
    "attention_mask = batch['attention_mask']"
   ]
  },
  {
   "cell_type": "code",
   "execution_count": 14,
   "metadata": {},
   "outputs": [],
   "source": [
    "gen_logits = gen_outputs.logits\n",
    "gen_logits = gen_logits.view(-1, gen_logits.size(-1))\n",
    "topk_labels, _ = topk_sampling(gen_logits, topk=1, temp=targs.temperature)"
   ]
  },
  {
   "cell_type": "code",
   "execution_count": 15,
   "metadata": {},
   "outputs": [],
   "source": [
    "mask_index = (mlm_labels.view(-1)>0).nonzero().view(-1)\n",
    "top_ids = torch.zeros_like(mlm_labels.view(-1))\n",
    "top_ids.scatter_(index=mask_index.long(), src=topk_labels.view(-1).long(), dim=-1)\n",
    "top_ids = top_ids.view(mlm_labels.size())\n",
    "new_ids = torch.where(mlm_labels>0, top_ids, input_ids)"
   ]
  },
  {
   "cell_type": "code",
   "execution_count": 16,
   "metadata": {},
   "outputs": [],
   "source": [
    "disc_batch = {\n",
    "    'input_ids': new_ids,\n",
    "    'attention_mask': batch['attention_mask'],\n",
    "}"
   ]
  },
  {
   "cell_type": "code",
   "execution_count": 17,
   "metadata": {},
   "outputs": [],
   "source": [
    "disc_outputs = discriminator(**disc_batch)"
   ]
  },
  {
   "cell_type": "code",
   "execution_count": 18,
   "metadata": {},
   "outputs": [
    {
     "data": {
      "text/plain": [
       "torch.Size([4, 512, 1])"
      ]
     },
     "execution_count": 18,
     "metadata": {},
     "output_type": "execute_result"
    }
   ],
   "source": [
    "disc_logits = disc_outputs.logits\n",
    "disc_logits.shape"
   ]
  },
  {
   "cell_type": "code",
   "execution_count": 19,
   "metadata": {},
   "outputs": [],
   "source": [
    "mask_logits = disc_logits.view(-1)\n",
    "_input_mask = attention_mask.view(-1).to(mask_logits)\n",
    "input_idx = (_input_mask>0).nonzero().view(-1)\n",
    "mask_labels = ((mlm_labels>0) & (mlm_labels!=input_ids)).view(-1)\n",
    "mask_labels = torch.gather(mask_labels.to(mask_logits), 0, input_idx)\n",
    "mask_loss_fn = torch.nn.BCEWithLogitsLoss()\n",
    "mask_logits = torch.gather(mask_logits, 0, input_idx).float()\n",
    "mask_loss = mask_loss_fn(mask_logits, mask_labels)"
   ]
  },
  {
   "cell_type": "code",
   "execution_count": null,
   "metadata": {},
   "outputs": [],
   "source": []
  }
 ],
 "metadata": {
  "kernelspec": {
   "display_name": "debenv",
   "language": "python",
   "name": "python3"
  },
  "language_info": {
   "codemirror_mode": {
    "name": "ipython",
    "version": 3
   },
   "file_extension": ".py",
   "mimetype": "text/x-python",
   "name": "python",
   "nbconvert_exporter": "python",
   "pygments_lexer": "ipython3",
   "version": "3.10.12"
  }
 },
 "nbformat": 4,
 "nbformat_minor": 2
}
