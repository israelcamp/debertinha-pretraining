{
  "cells": [
    {
      "cell_type": "code",
      "execution_count": 1,
      "metadata": {
        "id": "tQohcISbLhNk"
      },
      "outputs": [
        {
          "name": "stderr",
          "output_type": "stream",
          "text": [
            "/home/israel/Documents/debertinha/debenv/lib/python3.10/site-packages/tqdm/auto.py:21: TqdmWarning: IProgress not found. Please update jupyter and ipywidgets. See https://ipywidgets.readthedocs.io/en/stable/user_install.html\n",
            "  from .autonotebook import tqdm as notebook_tqdm\n",
            "None of PyTorch, TensorFlow >= 2.0, or Flax have been found. Models won't be available and only tokenizers, configuration and file/data utilities can be used.\n"
          ]
        }
      ],
      "source": [
        "from datasets import load_dataset, concatenate_datasets\n",
        "from transformers import DebertaV2Tokenizer, AutoTokenizer\n",
        "import ftfy\n",
        "from tqdm.auto import tqdm"
      ]
    },
    {
      "cell_type": "code",
      "execution_count": 2,
      "metadata": {
        "id": "XMZqYtCDL5An"
      },
      "outputs": [
        {
          "name": "stderr",
          "output_type": "stream",
          "text": [
            "Downloading readme: 100%|██████████| 551/551 [00:00<00:00, 2.68MB/s]\n",
            "Downloading data: 100%|██████████| 293M/293M [00:59<00:00, 4.90MB/s]\n",
            "Downloading data: 100%|██████████| 295M/295M [00:54<00:00, 5.45MB/s]\n",
            "Downloading data: 100%|██████████| 293M/293M [00:52<00:00, 5.55MB/s]\n",
            "Downloading data: 100%|██████████| 291M/291M [01:16<00:00, 3.82MB/s]\n",
            "Downloading data: 100%|██████████| 292M/292M [01:02<00:00, 4.65MB/s]\n",
            "Downloading data: 100%|██████████| 162M/162M [00:56<00:00, 2.88MB/s]t]\n",
            "Downloading data files: 100%|██████████| 2/2 [06:02<00:00, 181.07s/it]\n",
            "Extracting data files: 100%|██████████| 2/2 [00:00<00:00, 575.23it/s]\n",
            "Generating train split: 100%|██████████| 993101/993101 [00:10<00:00, 93240.48 examples/s] \n",
            "Generating test split: 100%|██████████| 110345/110345 [00:01<00:00, 91604.50 examples/s]\n"
          ]
        }
      ],
      "source": [
        "dataset = load_dataset(\"dominguesm/wikipedia-ptbr-20230601\")"
      ]
    },
    {
      "cell_type": "code",
      "execution_count": 4,
      "metadata": {
        "colab": {
          "base_uri": "https://localhost:8080/"
        },
        "id": "8H2uExzxPlQt",
        "outputId": "70c53f2f-22c3-402c-e6ab-c106de6612ac"
      },
      "outputs": [
        {
          "name": "stderr",
          "output_type": "stream",
          "text": [
            "/home/israel/Documents/debertinha/debenv/lib/python3.10/site-packages/transformers/convert_slow_tokenizer.py:473: UserWarning: The sentencepiece tokenizer that you are converting to a fast tokenizer uses the byte fallback option which is not implemented in the fast tokenizers. In practice this means that the fast version of the tokenizer can produce unknown tokens whereas the sentencepiece version would have converted these unknown tokens into a sequence of byte tokens matching the original piece of text.\n",
            "  warnings.warn(\n"
          ]
        }
      ],
      "source": [
        "tokenizer = AutoTokenizer.from_pretrained(\"microsoft/deberta-v3-xsmall\")"
      ]
    },
    {
      "cell_type": "code",
      "execution_count": 5,
      "metadata": {
        "id": "M8C6bC02QwFZ"
      },
      "outputs": [],
      "source": [
        "dataset = concatenate_datasets([dataset[\"train\"], dataset[\"test\"]])"
      ]
    },
    {
      "cell_type": "code",
      "execution_count": 6,
      "metadata": {
        "colab": {
          "base_uri": "https://localhost:8080/"
        },
        "id": "4wSD_ADTQzuf",
        "outputId": "dbf251f8-b3cc-41c1-9287-d3e83342aba7"
      },
      "outputs": [
        {
          "data": {
            "text/plain": [
              "Dataset({\n",
              "    features: ['id', 'url', 'title', 'text'],\n",
              "    num_rows: 1103446\n",
              "})"
            ]
          },
          "execution_count": 6,
          "metadata": {},
          "output_type": "execute_result"
        }
      ],
      "source": [
        "dataset"
      ]
    },
    {
      "cell_type": "code",
      "execution_count": 7,
      "metadata": {
        "id": "xIj8WgyiL8rS"
      },
      "outputs": [],
      "source": [
        "def batch_iterator(batch_size=10_000):\n",
        "    for i in tqdm(range(0, len(dataset), batch_size)):\n",
        "        text = dataset[i : i + batch_size][\"text\"]\n",
        "        text = [ftfy.fix_text(t) for t in text]\n",
        "        yield text"
      ]
    },
    {
      "cell_type": "code",
      "execution_count": 8,
      "metadata": {
        "id": "0-wxAxuqPUMM"
      },
      "outputs": [
        {
          "name": "stderr",
          "output_type": "stream",
          "text": [
            "100%|██████████| 111/111 [41:26<00:00, 22.40s/it]\n"
          ]
        },
        {
          "name": "stdout",
          "output_type": "stream",
          "text": [
            "\n",
            "\n"
          ]
        }
      ],
      "source": [
        "new_tokenizer = tokenizer.train_new_from_iterator(batch_iterator(), vocab_size=52000)"
      ]
    },
    {
      "cell_type": "code",
      "execution_count": 9,
      "metadata": {
        "id": "QMRUk5S3PdS0"
      },
      "outputs": [
        {
          "data": {
            "text/plain": [
              "('debertinha-v2-tokenizer/tokenizer_config.json',\n",
              " 'debertinha-v2-tokenizer/special_tokens_map.json',\n",
              " 'debertinha-v2-tokenizer/tokenizer.json')"
            ]
          },
          "execution_count": 9,
          "metadata": {},
          "output_type": "execute_result"
        }
      ],
      "source": [
        "new_tokenizer.save_pretrained(\"debertinha-v2-tokenizer\")"
      ]
    },
    {
      "cell_type": "code",
      "execution_count": 10,
      "metadata": {},
      "outputs": [
        {
          "data": {
            "text/plain": [
              "['▁O', 'lá', ',', '▁mundo', '!']"
            ]
          },
          "execution_count": 10,
          "metadata": {},
          "output_type": "execute_result"
        }
      ],
      "source": [
        "new_tokenizer.tokenize(\"Olá, mundo!\")"
      ]
    },
    {
      "cell_type": "code",
      "execution_count": 11,
      "metadata": {},
      "outputs": [
        {
          "data": {
            "text/plain": [
              "['▁Eu',\n",
              " '▁que',\n",
              " 'r',\n",
              " 'o',\n",
              " '▁falar',\n",
              " '▁sobre',\n",
              " '▁um',\n",
              " '▁tema',\n",
              " '▁',\n",
              " 'tens',\n",
              " 'o',\n",
              " '▁hoje']"
            ]
          },
          "execution_count": 11,
          "metadata": {},
          "output_type": "execute_result"
        }
      ],
      "source": [
        "new_tokenizer.tokenize(\"Eu quero falar sobre um tema tenso hoje\")"
      ]
    },
    {
      "cell_type": "code",
      "execution_count": 15,
      "metadata": {},
      "outputs": [
        {
          "data": {
            "text/plain": [
              "2"
            ]
          },
          "execution_count": 15,
          "metadata": {},
          "output_type": "execute_result"
        }
      ],
      "source": [
        "new_tokenizer.sep_token_id"
      ]
    },
    {
      "cell_type": "code",
      "execution_count": 16,
      "metadata": {},
      "outputs": [
        {
          "data": {
            "text/plain": [
              "1000000000000000019884624838656"
            ]
          },
          "execution_count": 16,
          "metadata": {},
          "output_type": "execute_result"
        }
      ],
      "source": [
        "new_tokenizer.model_max_length"
      ]
    },
    {
      "cell_type": "code",
      "execution_count": null,
      "metadata": {},
      "outputs": [],
      "source": []
    }
  ],
  "metadata": {
    "colab": {
      "machine_shape": "hm",
      "provenance": []
    },
    "kernelspec": {
      "display_name": "Python 3",
      "name": "python3"
    },
    "language_info": {
      "codemirror_mode": {
        "name": "ipython",
        "version": 3
      },
      "file_extension": ".py",
      "mimetype": "text/x-python",
      "name": "python",
      "nbconvert_exporter": "python",
      "pygments_lexer": "ipython3",
      "version": "3.10.12"
    }
  },
  "nbformat": 4,
  "nbformat_minor": 0
}
